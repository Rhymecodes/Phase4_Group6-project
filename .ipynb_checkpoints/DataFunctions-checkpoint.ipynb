{
 "cells": [
  {
   "cell_type": "code",
   "execution_count": 1,
   "metadata": {},
   "outputs": [],
   "source": [
    "import pandas as pd\n",
    "import numpy as np\n",
    "import matplotlib.pyplot as plt\n",
    "import seaborn as sns\n",
    "from sklearn.preprocessing import OneHotEncoder\n",
    "\n",
    "\n",
    "class data_understanding:\n",
    "    def __init__(self, file):\n",
    "        \"\"\"\n",
    "        Initializes the data understanding class\n",
    "        \"\"\"\n",
    "        self.data = self.load_data(file)\n",
    "        \n",
    "\n",
    "    def load_data(self, file):\n",
    "        \"\"\"\n",
    "        Loading the csv file\n",
    "        \"\"\"\n",
    "        return pd.read_csv(file)\n",
    "    \n",
    "    def first_rows(self):\n",
    "        \"\"\"\n",
    "        Checks the first 5 rows of the dataset\n",
    "        \"\"\"\n",
    "        return self.data.head()\n",
    "    \n",
    "    def last_rows(self):\n",
    "        \"\"\"\n",
    "        Checks the last 5 rows of the dataset\n",
    "        \"\"\"\n",
    "        return self.data.tail()\n",
    "     \n",
    "    def data_shape(self):\n",
    "        \"\"\"\n",
    "        Returns the shape of the dataset\n",
    "        \"\"\"\n",
    "        return self.data.shape\n",
    "        \n",
    "    def data_info(self):\n",
    "        \"\"\"\n",
    "        Returns the information about the dataset.\n",
    "        \"\"\"\n",
    "        return self.data.info()\n",
    "\n",
    "    def data_description(self):\n",
    "        \"\"\"\n",
    "        Returns the description of the dataset\n",
    "        \"\"\"\n",
    "        return self.data.describe()\n"
   ]
  },
  {
   "cell_type": "code",
   "execution_count": null,
   "metadata": {},
   "outputs": [],
   "source": []
  }
 ],
 "metadata": {
  "kernelspec": {
   "display_name": "Python (learn-env)",
   "language": "python",
   "name": "learn-env"
  },
  "language_info": {
   "codemirror_mode": {
    "name": "ipython",
    "version": 3
   },
   "file_extension": ".py",
   "mimetype": "text/x-python",
   "name": "python",
   "nbconvert_exporter": "python",
   "pygments_lexer": "ipython3",
   "version": "3.8.5"
  }
 },
 "nbformat": 4,
 "nbformat_minor": 4
}
